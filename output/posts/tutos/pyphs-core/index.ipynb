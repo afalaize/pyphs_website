{
 "cells": [
  {
   "cell_type": "markdown",
   "metadata": {},
   "source": [
    "In this tutorial, we recall the *port-Hamiltonian systems (PHS)* formalism in parallel with a description of the `pyphs.Core` object. As an example, we derive a PHS formulation of the Thiele-Small model of the loudspeaker as the connection of a two-ports serial resistor-inductor (RL) circuit with a mass-spring-damper (MKA) system.\n",
    "<!-- TEASER_END -->\n",
    "\n",
    "The corresponding Python script `core.py` can be found in the tutorials at `\\pyphs\\tutorials\\`"
   ]
  },
  {
   "cell_type": "markdown",
   "metadata": {},
   "source": [
    "Steps are:\n",
    "1. Governing equations for the RL circuit\n",
    "2. pyphs.Core instantiation\n",
    "3. Adding the components\n",
    "4. Defining the interconnection structure\n",
    "5. The mass-spring-damper (MKA)\n",
    "6. Connection of two pyphs.Core\n",
    "7. Setting the physical parameters values\n",
    "8. Reduce the linear dissipative relations\n",
    "9. Avoid inverse evaluations of the parameters\n",
    "10. Generate a $\\LaTeX$ description\n",
    "\n",
    "# 1. Governing equations for the RL circuit\n",
    "The two-ports RL circuit is described as follows:\n",
    "* $x_L$ is the coil flux so that $v_L = \\frac{\\mathrm d x_L}{\\mathrm d  t}$ is the coil voltage,  \n",
    "* $w_R= i_R$ is the resistor current, \n",
    "* $y1=i_{\\mathrm{1}}$ is the current at port #1 \n",
    "* $u1=v_1$ is the voltage at port #1.\n",
    "* $y2=i_{\\mathrm{2}}$ is the current at port #2 \n",
    "* $u2=v_2$ is the voltage at port #2.\n",
    "\n",
    "For this tutorial, the constitutive laws are:\n",
    "* the storage function (Hamiltonian) $$H(x_L)=\\frac{x_L^2}{2L}$$ so that the (linear) coil current is $i_L=\\frac{\\partial H}{\\partial x_L}=\\frac{x_L}{L}$,\n",
    "* the linear dissipation function $z_R(w_R)= R \\,w_R = v_R$ with $v_R$ the resistor voltage. \n",
    "\n",
    "The Kirchhoff's laws for a serial connection read: \n",
    "* Kirchhoff's current law: $ v_L=-v_C-v_R-v_1-v2$,\n",
    "* Kirchhoff's vcurrent law: $i_L = i_R = i_1 = i_2$.\n",
    "\n",
    "This can be expressed in the *Port-Hamiltonian Systems* (PHS) formalism as:\n",
    "\n",
    "\\begin{equation}\n",
    "\\begin{pmatrix}\n",
    "\\frac{dx_L}{dt} \\\\\n",
    "\\hline\n",
    "w_R \\\\\n",
    "\\hline\n",
    "y_1 \\\\\n",
    "y_2\n",
    "\\end{pmatrix}\n",
    "= \n",
    "\\left(\n",
    "\\begin{array}{c|c|cc|c}\n",
    "0 &-1 &-1& -1 \\\\\n",
    "\\hline\n",
    "+1 &0 &0 &0 \\\\\n",
    "\\hline\n",
    "+1 &0 &0& 0 \\\\\n",
    "+1 &0& 0 &0\n",
    "\\end{array}\n",
    "\\right)\n",
    "\\begin{pmatrix}\n",
    "\\frac{dH}{dx_L} \\\\\n",
    "\\hline\n",
    "z(w_R) \\\\\n",
    "\\hline\n",
    "u_1 \\\\\n",
    "u_2\n",
    "\\end{pmatrix}\n",
    "\\end{equation}\n",
    "\n",
    "#### Physical parameters\n",
    "* $L=500\\times 10^{-3}$H, \n",
    "* $R = 10^2\\Omega$.\n",
    "\n",
    "# 2. pyphs.Core instantiation"
   ]
  },
  {
   "cell_type": "markdown",
   "metadata": {},
   "source": [
    "In this tutorial, we need only the core PHS structure implemented by the `pyphs.Core` object:"
   ]
  },
  {
   "cell_type": "code",
   "execution_count": 1,
   "metadata": {
    "collapsed": true
   },
   "outputs": [],
   "source": [
    "# import of the pyphs.Core class\n",
    "from pyphs import Core"
   ]
  },
  {
   "cell_type": "markdown",
   "metadata": {},
   "source": [
    "The instantiation takes an optional argument `label`:"
   ]
  },
  {
   "cell_type": "code",
   "execution_count": 2,
   "metadata": {
    "collapsed": true
   },
   "outputs": [],
   "source": [
    "# instantiate a pyphs.PHSCore object\n",
    "RL = Core(label='my_core')"
   ]
  },
  {
   "cell_type": "markdown",
   "metadata": {},
   "source": [
    "Now, `RL` is a new instance of the `pyphs.Core` class, that is, an empty Port-Hamiltonian System:"
   ]
  },
  {
   "cell_type": "code",
   "execution_count": 3,
   "metadata": {},
   "outputs": [
    {
     "data": {
      "text/plain": [
       "True"
      ]
     },
     "execution_count": 3,
     "metadata": {},
     "output_type": "execute_result"
    }
   ],
   "source": [
    "isinstance(RL, Core)"
   ]
  },
  {
   "cell_type": "code",
   "execution_count": 4,
   "metadata": {},
   "outputs": [
    {
     "data": {
      "text/plain": [
       "[]"
      ]
     },
     "execution_count": 4,
     "metadata": {},
     "output_type": "execute_result"
    }
   ],
   "source": [
    "RL.x"
   ]
  },
  {
   "cell_type": "code",
   "execution_count": 5,
   "metadata": {},
   "outputs": [
    {
     "data": {
      "text/plain": [
       "0"
      ]
     },
     "execution_count": 5,
     "metadata": {},
     "output_type": "execute_result"
    }
   ],
   "source": [
    "RL.H"
   ]
  },
  {
   "cell_type": "code",
   "execution_count": 6,
   "metadata": {},
   "outputs": [
    {
     "data": {
      "text/plain": [
       "0"
      ]
     },
     "execution_count": 6,
     "metadata": {},
     "output_type": "execute_result"
    }
   ],
   "source": [
    "RL.dims.w()"
   ]
  },
  {
   "cell_type": "code",
   "execution_count": 7,
   "metadata": {},
   "outputs": [
    {
     "data": {
      "text/plain": [
       "Matrix(0, 0, [])"
      ]
     },
     "execution_count": 7,
     "metadata": {},
     "output_type": "execute_result"
    }
   ],
   "source": [
    "RL.M"
   ]
  },
  {
   "cell_type": "markdown",
   "metadata": {},
   "source": [
    "# 3. Adding the components\n",
    "The pyphs package is based on the `sympy` package to provides the symbolic manipulation of PHS structures. \n",
    "\n",
    "## 3.1 Defining symbols\n",
    "\n",
    "To declare symbols, we use the `Core.symbols` method which is a shortcut for `sympy.symbols`method. Below, we declare the symbols associated with the coil:\n",
    "\n",
    "* the state $x_L$ (magnetic flux of the coil measured in Weber), and\n",
    "* the parameter $L$ (coil inductance measured in Henry)."
   ]
  },
  {
   "cell_type": "code",
   "execution_count": 8,
   "metadata": {},
   "outputs": [
    {
     "data": {
      "text/plain": [
       "xL"
      ]
     },
     "execution_count": 8,
     "metadata": {},
     "output_type": "execute_result"
    }
   ],
   "source": [
    "xL, L = RL.symbols(['xL', 'L'])\n",
    "xL"
   ]
  },
  {
   "cell_type": "markdown",
   "metadata": {},
   "source": [
    "> Notice all symbols in `PyPHS` are assumed **real-valued only**. This is to alleviate complex solutions during the manipulation of expressions."
   ]
  },
  {
   "cell_type": "markdown",
   "metadata": {},
   "source": [
    "## 3.2 Define expressions\n",
    "Now, the variables `xL` and `L` are instances of the `Core.symbols` object, and expressions are defined with the standard `sympy` syntax. Below, we define the storage function associated with the coil $H_L(x_L)=\\frac{x_L^2}{2L}$:"
   ]
  },
  {
   "cell_type": "code",
   "execution_count": 9,
   "metadata": {
    "collapsed": true
   },
   "outputs": [],
   "source": [
    "HL = xL**2/(2*L)"
   ]
  },
  {
   "cell_type": "markdown",
   "metadata": {},
   "source": [
    "## 3.3 Adding storages\n",
    "To include a storage component to a `Core`, we make use of the `add_storages` method. As an example, the coil is added to the `Core` object as follows:"
   ]
  },
  {
   "cell_type": "code",
   "execution_count": 10,
   "metadata": {},
   "outputs": [
    {
     "data": {
      "text/plain": [
       "[xL]"
      ]
     },
     "execution_count": 10,
     "metadata": {},
     "output_type": "execute_result"
    }
   ],
   "source": [
    "RL.add_storages(xL, HL)\n",
    "RL.x"
   ]
  },
  {
   "cell_type": "code",
   "execution_count": 11,
   "metadata": {},
   "outputs": [
    {
     "data": {
      "text/plain": [
       "xL**2/(2*L)"
      ]
     },
     "execution_count": 11,
     "metadata": {},
     "output_type": "execute_result"
    }
   ],
   "source": [
    "RL.H"
   ]
  },
  {
   "cell_type": "markdown",
   "metadata": {},
   "source": [
    "## 3.4 Adding dissipations \n",
    "To include a dissipative component to a `Core`, we make use of the `add_dissipations` method. Recall the resistor is decribed by:\n",
    "* the dissipative variable $w_R$ (resistor current),\n",
    "* the parameter $R$ (electric resistance), and \n",
    "* the dissipation function $z_R(w_R)=R\\,w_R$.\n",
    "\n",
    "This component is added to the `Core` object as follows: "
   ]
  },
  {
   "cell_type": "code",
   "execution_count": 12,
   "metadata": {
    "collapsed": true
   },
   "outputs": [],
   "source": [
    "wR, R = RL.symbols(['wR', 'R'])    # define sympy symbols\n",
    "zR = R*wR                           # define sympy expression\n",
    "RL.add_dissipations(wR, zR)        # add dissipation to the `core` object"
   ]
  },
  {
   "cell_type": "markdown",
   "metadata": {},
   "source": [
    "Now, the dissipative variable of the `core` object includes `wR` only:"
   ]
  },
  {
   "cell_type": "code",
   "execution_count": 13,
   "metadata": {},
   "outputs": [
    {
     "data": {
      "text/plain": [
       "[wR]"
      ]
     },
     "execution_count": 13,
     "metadata": {},
     "output_type": "execute_result"
    }
   ],
   "source": [
    "RL.w"
   ]
  },
  {
   "cell_type": "markdown",
   "metadata": {},
   "source": [
    "and the dissipation function is given by `zR` only:"
   ]
  },
  {
   "cell_type": "code",
   "execution_count": 14,
   "metadata": {},
   "outputs": [
    {
     "data": {
      "text/plain": [
       "[R*wR]"
      ]
     },
     "execution_count": 14,
     "metadata": {},
     "output_type": "execute_result"
    }
   ],
   "source": [
    "RL.z"
   ]
  },
  {
   "cell_type": "markdown",
   "metadata": {},
   "source": [
    "## 3.5 Adding ports\n",
    "To include an external port to a `PHSCore` object, we make use of the `core.add_ports` method. Below, we define the external port with input $u=v_{\\mathrm{out}}$ and output $y=i_{\\mathrm{out}}$ (notice the symbols do not reflect the actual physical meaning of $u$ and $y$):"
   ]
  },
  {
   "cell_type": "code",
   "execution_count": 15,
   "metadata": {
    "collapsed": true
   },
   "outputs": [],
   "source": [
    "u1, y1, u2, y2 = RL.symbols(['v1', 'i1', 'v2', 'i2']) # define sympy symbols\n",
    "RL.add_ports([u1, u2], [y1, y2])                  # add the port to the `core` object"
   ]
  },
  {
   "cell_type": "code",
   "execution_count": 16,
   "metadata": {},
   "outputs": [
    {
     "data": {
      "text/plain": [
       "[v1, v2]"
      ]
     },
     "execution_count": 16,
     "metadata": {},
     "output_type": "execute_result"
    }
   ],
   "source": [
    "RL.u"
   ]
  },
  {
   "cell_type": "code",
   "execution_count": 17,
   "metadata": {},
   "outputs": [
    {
     "data": {
      "text/plain": [
       "[i1, i2]"
      ]
     },
     "execution_count": 17,
     "metadata": {},
     "output_type": "execute_result"
    }
   ],
   "source": [
    "RL.y"
   ]
  },
  {
   "cell_type": "markdown",
   "metadata": {},
   "source": [
    "# 4. Defining the interconnection structure\n",
    "The interconnection structure of a PHS is defined by the matrix $\\mathbf M$ structured as $$\\mathbf M = \\mathbf J- \\mathbf R,$$ where \n",
    "* the skew-symmetric matrix $\\mathbf J = \\frac{1}{2}\\left(\\mathbf M- \\mathbf M^\\intercal\\right) $ encodes the *conservative interconnection*, and \n",
    "* the symmetric positive definite matrix $\\mathbf R = \\frac{-1}{2}\\left(\\mathbf M + \\mathbf M^\\intercal\\right)$ encodes the *dissipative interconnection*.\n",
    "\n",
    "These matrices are decomposed in blocks as follows:\n",
    "$$\\mathbf M = \\left( \n",
    "\\begin{array}{lll}\n",
    "\\mathbf M_{\\mathrm{xx}} & \\mathbf M_{\\mathrm{xw}} & \\mathbf M_{\\mathrm{xy}} \\\\\n",
    "\\mathbf M_{\\mathrm{wx}} & \\mathbf M_{\\mathrm{ww}} & \\mathbf M_{\\mathrm{wy}} \\\\\n",
    "\\mathbf M_{\\mathrm{yx}} & \\mathbf M_{\\mathrm{ww}} & \\mathbf M_{\\mathrm{yy}} \\\\\n",
    "\\end{array}\\right), \n",
    "$$\n",
    "$$\n",
    "\\mathbf J = \\left( \n",
    "\\begin{array}{lll}\n",
    "\\mathbf J_{\\mathrm{xx}} & \\mathbf J_{\\mathrm{xw}} & \\mathbf J_{\\mathrm{xy}} \\\\\n",
    "\\mathbf J_{\\mathrm{wx}} & \\mathbf J_{\\mathrm{ww}} & \\mathbf J_{\\mathrm{wy}} \\\\\n",
    "\\mathbf J_{\\mathrm{yx}} & \\mathbf J_{\\mathrm{ww}} & \\mathbf J_{\\mathrm{yy}} \\\\\n",
    "\\end{array}\\right), \\quad\\mathbf R = \\left( \n",
    "\\begin{array}{lll}\n",
    "\\mathbf R_{\\mathrm{xx}} & \\mathbf R_{\\mathrm{xw}} & \\mathbf R_{\\mathrm{xy}} \\\\\n",
    "\\mathbf R_{\\mathrm{wx}} & \\mathbf R_{\\mathrm{ww}} & \\mathbf R_{\\mathrm{wy}} \\\\\n",
    "\\mathbf R_{\\mathrm{yx}} & \\mathbf R_{\\mathrm{ww}} & \\mathbf R_{\\mathrm{yy}} \\\\\n",
    "\\end{array}\\right).$$\n",
    "\n",
    "For the above description of the RLC circuit, the matrices are $$\\mathbf M = \\mathbf J = \\left(\\begin{array}{cc|c|c}\n",
    "0 & -1 & -1 & -1\\\\ \n",
    "+1 & 0 & 0 & 0 \\\\ \\hline\n",
    "+1 & 0 & 0 & 0 \\\\  \\hline\n",
    "+1 & 0 & 0 & 0\n",
    "\\end{array}\\right),$$ \n",
    "that is, $\\mathbf R=0$. \n",
    "\n",
    "> Notice `core.M` only is an attribute, all other matrices are accessed with *getters* (e.g. `core.J()`, `core.Jxx()`, `core.Rxy()`, `core.Mwy()`) and *setters* (e.g. `core.set_J()`, `core.set_Jxx()`, `core.set_Rxy()`, `core.set_Mwy()`).\n",
    "\n",
    "First, we initialize the matrix $\\mathbf M$ with zeros:"
   ]
  },
  {
   "cell_type": "code",
   "execution_count": 18,
   "metadata": {},
   "outputs": [
    {
     "data": {
      "text/plain": [
       "Matrix([\n",
       "[0, 0, 0, 0],\n",
       "[0, 0, 0, 0],\n",
       "[0, 0, 0, 0],\n",
       "[0, 0, 0, 0]])"
      ]
     },
     "execution_count": 18,
     "metadata": {},
     "output_type": "execute_result"
    }
   ],
   "source": [
    "RL.init_M()\n",
    "\n",
    "RL.M"
   ]
  },
  {
   "cell_type": "code",
   "execution_count": 19,
   "metadata": {},
   "outputs": [
    {
     "data": {
      "text/plain": [
       "Matrix([\n",
       "[0, 0, 0, 0],\n",
       "[0, 0, 0, 0],\n",
       "[0, 0, 0, 0],\n",
       "[0, 0, 0, 0]])"
      ]
     },
     "execution_count": 19,
     "metadata": {},
     "output_type": "execute_result"
    }
   ],
   "source": [
    "RL.set_Mxx([0])\n",
    "RL.M"
   ]
  },
  {
   "cell_type": "code",
   "execution_count": 20,
   "metadata": {},
   "outputs": [
    {
     "data": {
      "text/plain": [
       "Matrix([\n",
       "[0, -1, 0, 0],\n",
       "[1,  0, 0, 0],\n",
       "[0,  0, 0, 0],\n",
       "[0,  0, 0, 0]])"
      ]
     },
     "execution_count": 20,
     "metadata": {},
     "output_type": "execute_result"
    }
   ],
   "source": [
    "Jxw = [[-1]]\n",
    "RL.set_Jxw(Jxw)\n",
    "\n",
    "RL.M"
   ]
  },
  {
   "cell_type": "markdown",
   "metadata": {},
   "source": [
    "> Notice the skew-symmetry (respectively symmetry) of $\\mathbf J$ (respectively $\\mathbf R$) is preserved with the *setters* `core.set_Jab` (respectively `core.set_Rab`), for $\\mathtt{a, b}$ in $(\\mathrm{x, w, y})^2$. Above, $\\mathbf{J}_{\\mathrm{wx}}=-\\mathbf{J}_{\\mathrm{xw}}^{\\intercal}$ has been automatically updated."
   ]
  },
  {
   "cell_type": "code",
   "execution_count": 21,
   "metadata": {},
   "outputs": [
    {
     "data": {
      "text/plain": [
       "Matrix([\n",
       "[0, -1, -1, -1],\n",
       "[1,  0,  0,  0],\n",
       "[1,  0,  0,  0],\n",
       "[1,  0,  0,  0]])"
      ]
     },
     "execution_count": 21,
     "metadata": {},
     "output_type": "execute_result"
    }
   ],
   "source": [
    "RL.set_Jxy([[-1, -1]])\n",
    "RL.M"
   ]
  },
  {
   "cell_type": "markdown",
   "metadata": {},
   "source": [
    "Then, the structure matrices are accessed as follows."
   ]
  },
  {
   "cell_type": "code",
   "execution_count": 22,
   "metadata": {},
   "outputs": [
    {
     "data": {
      "text/plain": [
       "Matrix([\n",
       "[0, -1, -1, -1],\n",
       "[1,  0,  0,  0],\n",
       "[1,  0,  0,  0],\n",
       "[1,  0,  0,  0]])"
      ]
     },
     "execution_count": 22,
     "metadata": {},
     "output_type": "execute_result"
    }
   ],
   "source": [
    "RL.M"
   ]
  },
  {
   "cell_type": "code",
   "execution_count": 23,
   "metadata": {},
   "outputs": [
    {
     "data": {
      "text/plain": [
       "Matrix([\n",
       "[  0, -1.0, -1.0, -1.0],\n",
       "[1.0,    0,    0,    0],\n",
       "[1.0,    0,    0,    0],\n",
       "[1.0,    0,    0,    0]])"
      ]
     },
     "execution_count": 23,
     "metadata": {},
     "output_type": "execute_result"
    }
   ],
   "source": [
    "RL.J()"
   ]
  },
  {
   "cell_type": "code",
   "execution_count": 24,
   "metadata": {
    "scrolled": false
   },
   "outputs": [
    {
     "data": {
      "text/plain": [
       "Matrix([\n",
       "[0, 0, 0, 0],\n",
       "[0, 0, 0, 0],\n",
       "[0, 0, 0, 0],\n",
       "[0, 0, 0, 0]])"
      ]
     },
     "execution_count": 24,
     "metadata": {},
     "output_type": "execute_result"
    }
   ],
   "source": [
    "RL.R()"
   ]
  },
  {
   "cell_type": "markdown",
   "metadata": {},
   "source": [
    "# 5 The mass-spring-damper (MKA)\n",
    "\n",
    "Below, we build the PHS associated with the one-port mass-spring-damper (MKA) system, following the same steps as described above.\n",
    "\n",
    "* $x_K$ is the spring position so that $v_K = \\frac{\\mathrm d x_K}{\\mathrm d  t}$ is the spring velocity,  \n",
    "* $x_M$ is the mass momentum so that $f_M = \\frac{\\mathrm d x_M}{\\mathrm d  t}$ is the force applied on the mass,  \n",
    "* $w_A= v_A$ is the damper velocity, \n",
    "* $y_3=v_3$ is the velocity of port #3 \n",
    "* $u_3=f_3$ is the force applied on the port #3.\n",
    "\n",
    "For this tutorial, the constitutive laws are:\n",
    "* the storage function (Hamiltonian) $$H(x_M)=\\frac{x_M^2}{2M}$$ so that the (linear) velocity of the mass is $v_M=\\frac{\\partial H}{\\partial x_M}=\\frac{x_M}{M}$ and $$H(x_K)=\\frac{Kx_K^2}{2}$$ so that the (linear) force applied on the spring is $f_K = Kx_K$. \n",
    "* the linear dissipation function $z_A(w_A)= A \\,w_A = f_A$ with $f_A$ force applied on the damper. \n",
    "\n",
    "\n",
    "The PHS associated with the one-port mass-spring-damper (MKA) system is:\n",
    "\n",
    "\\begin{equation}\n",
    "\\begin{pmatrix}\n",
    "\\frac{dx_K}{dt} \\\\\n",
    "\\frac{dx_M}{dt} \\\\\n",
    "\\hline\n",
    "w_A \\\\\n",
    "\\hline\n",
    "v_3 \n",
    "\\end{pmatrix}\n",
    "= \n",
    "\\left(\n",
    "\\begin{array}{c c|c|c}\n",
    "0 &1 &0& 0 \\\\\n",
    "-1 &0 &-1 &-1 \\\\\n",
    "\\hline\n",
    "0 &1 &0& 0 \\\\\n",
    "\\hline\n",
    "0 &1& 0 &0\n",
    "\\end{array}\n",
    "\\right)\n",
    "\\begin{pmatrix}\n",
    "\\frac{dH}{dx_K} \\\\\n",
    "\\frac{dH}{dx_M} \\\\\n",
    "\\hline\n",
    "z(w_A) \\\\\n",
    "\\hline\n",
    "f_3\n",
    "\\end{pmatrix}\n",
    "\\end{equation}\n",
    "\n",
    "The MKA `Core` object as above:"
   ]
  },
  {
   "cell_type": "code",
   "execution_count": 25,
   "metadata": {},
   "outputs": [
    {
     "name": "stdout",
     "output_type": "stream",
     "text": [
      "⎡⎡dxK⎤, ⎡0   1  0   0 ⎤, ⎡gxK⎤⎤\n",
      "⎢⎢   ⎥  ⎢             ⎥  ⎢   ⎥⎥\n",
      "⎢⎢dxM⎥  ⎢-1  0  -1  -1⎥  ⎢gxM⎥⎥\n",
      "⎢⎢   ⎥  ⎢             ⎥  ⎢   ⎥⎥\n",
      "⎢⎢wA ⎥  ⎢0   1  0   0 ⎥  ⎢zA ⎥⎥\n",
      "⎢⎢   ⎥  ⎢             ⎥  ⎢   ⎥⎥\n",
      "⎣⎣V₃ ⎦  ⎣0   1  0   0 ⎦  ⎣f₃ ⎦⎦\n"
     ]
    }
   ],
   "source": [
    "# 1. Instantiate the MKA Core\n",
    "MKA = Core()\n",
    "\n",
    "# 2Define all symbols\n",
    "xK, K, xM, M, wA, A, u3, v3 = MKA.symbols(['xK', 'K', 'xM', 'M', 'wA', 'A', 'f3', 'V3'])\n",
    "\n",
    "# Define the constitutive laws\n",
    "HK = (xK**2)*(K/2)\n",
    "HM = (xM**2)/(2*M)\n",
    "zA = wA*A \n",
    "\n",
    "# Add all the components\n",
    "MKA.add_storages([xK, xM], HK + HM)\n",
    "MKA.add_dissipations(wA, zA)\n",
    "MKA.add_ports(u3, v3)\n",
    "\n",
    "# Initialize the interconnexion matrix\n",
    "MKA.init_M()\n",
    "\n",
    "# It is possible to define M at once with a sympy.SparseMatrix\n",
    "import sympy\n",
    "MKA.M = sympy.SparseMatrix([[0, 1, 0, 0], [-1, 0, -1, -1], [0, 1, 0, 0], [0, 1, 0, 0]])\n",
    "\n",
    "MKA.pprint()"
   ]
  },
  {
   "cell_type": "markdown",
   "metadata": {},
   "source": [
    "# 6. Connection of two pyphs.Core"
   ]
  },
  {
   "cell_type": "markdown",
   "metadata": {},
   "source": [
    "This section describes how to connect two `pyphs.Core` instances. As an example, the Thiele-Small model of a loudspeaker is built as the connexion between of a the previous RL circuit with a mass-spring-damper (MKA) system through a gyrator $BL$.  \n",
    "\n",
    "The connection is realized in three steps:\n",
    "1. Assembly: Two `pyphs.Core` instances are concatenated in a single object.\n",
    "2. Dual feedback: $N$ outputs of the resulting `pyphs.Core` are feed back into $N$ of its own inputs.\n",
    "3. Connection: The associated relations are embeded in the `pyphs.Core` structure.\n",
    "\n",
    "## 6.1 Assembly\n",
    "The `+` operator is used to assemble two `pyphs.Core` instances in a single object. Below, we assemble the *RL* circuit and the *MKA* system in a `pyphs.Core` named *SPK*."
   ]
  },
  {
   "cell_type": "code",
   "execution_count": 26,
   "metadata": {
    "collapsed": true
   },
   "outputs": [],
   "source": [
    "SPK = RL + MKA"
   ]
  },
  {
   "cell_type": "markdown",
   "metadata": {},
   "source": [
    "Vectors quantities from `RL` and `MKA` are concatenated into `SPK`:"
   ]
  },
  {
   "cell_type": "code",
   "execution_count": 27,
   "metadata": {},
   "outputs": [
    {
     "name": "stdout",
     "output_type": "stream",
     "text": [
      "⎡⎡dxL⎤, ⎡0  0   0  -1  0   -1  -1  0 ⎤, ⎡gxL⎤⎤\n",
      "⎢⎢   ⎥  ⎢                            ⎥  ⎢   ⎥⎥\n",
      "⎢⎢dxK⎥  ⎢0  0   1  0   0   0   0   0 ⎥  ⎢gxK⎥⎥\n",
      "⎢⎢   ⎥  ⎢                            ⎥  ⎢   ⎥⎥\n",
      "⎢⎢dxM⎥  ⎢0  -1  0  0   -1  0   0   -1⎥  ⎢gxM⎥⎥\n",
      "⎢⎢   ⎥  ⎢                            ⎥  ⎢   ⎥⎥\n",
      "⎢⎢wR ⎥  ⎢1  0   0  0   0   0   0   0 ⎥  ⎢zR ⎥⎥\n",
      "⎢⎢   ⎥  ⎢                            ⎥  ⎢   ⎥⎥\n",
      "⎢⎢wA ⎥  ⎢0  0   1  0   0   0   0   0 ⎥  ⎢zA ⎥⎥\n",
      "⎢⎢   ⎥  ⎢                            ⎥  ⎢   ⎥⎥\n",
      "⎢⎢i₁ ⎥  ⎢1  0   0  0   0   0   0   0 ⎥  ⎢v₁ ⎥⎥\n",
      "⎢⎢   ⎥  ⎢                            ⎥  ⎢   ⎥⎥\n",
      "⎢⎢i₂ ⎥  ⎢1  0   0  0   0   0   0   0 ⎥  ⎢v₂ ⎥⎥\n",
      "⎢⎢   ⎥  ⎢                            ⎥  ⎢   ⎥⎥\n",
      "⎣⎣V₃ ⎦  ⎣0  0   1  0   0   0   0   0 ⎦  ⎣f₃ ⎦⎦\n"
     ]
    }
   ],
   "source": [
    "SPK.pprint()"
   ]
  },
  {
   "cell_type": "markdown",
   "metadata": {},
   "source": [
    "and the energies are added together:"
   ]
  },
  {
   "cell_type": "code",
   "execution_count": 28,
   "metadata": {},
   "outputs": [
    {
     "data": {
      "image/png": "[encoded data removed]",
      "text/latex": [
       "$$\\frac{K xK^{2}}{2} + \\frac{xM^{2}}{2 M} + \\frac{xL^{2}}{2 L}$$"
      ],
      "text/plain": [
       "    2     2     2\n",
       "K⋅xK    xM    xL \n",
       "───── + ─── + ───\n",
       "  2     2⋅M   2⋅L"
      ]
     },
     "execution_count": 28,
     "metadata": {},
     "output_type": "execute_result"
    }
   ],
   "source": [
    "SPK.H"
   ]
  },
  {
   "cell_type": "markdown",
   "metadata": {},
   "source": [
    "## 6.2. Dual feedback\n",
    "\n",
    "Now we add the information of connexion of RL with MKA with the `add_connector` method. It takes 2 arguments:\n",
    "\n",
    "1. An ordered list of ports indices $(p_1,\\,p_2)$ associated with the ports to be connected \n",
    "2. A coupling coefficient $\\alpha$.\n",
    "\n",
    "The connection reads:\n",
    "$$\\left\\{ \\begin{array}{rcr}\n",
    "u_{p_1} &=& +\\,\\alpha \\, y_{p_2}, \\\\\n",
    "u_{p_2} &=& -\\,\\alpha \\, y_{p_1}.\n",
    "\\end{array}\n",
    "\\right.$$\n",
    "\n",
    "The electro-mechanical coupling $BL$ of RL with MKA yields: $f_3 = +\\, BL\\, i_2$, that is, we connect the second output of RL into the input of MKA:"
   ]
  },
  {
   "cell_type": "code",
   "execution_count": 29,
   "metadata": {},
   "outputs": [
    {
     "data": {
      "text/plain": [
       "[{'alpha': BL, 'u': [f3, v2], 'y': [V3, i2]}]"
      ]
     },
     "execution_count": 29,
     "metadata": {},
     "output_type": "execute_result"
    }
   ],
   "source": [
    "# define ports indeices:\n",
    "p1 = SPK.u.index(MKA.u[0]) # recover the index for f3 in SPK.u\n",
    "p2 = SPK.y.index(RL.y[1])  # recover the index for i2 in SPK.y\n",
    "\n",
    "# Define the symbol BL\n",
    "BL = SPK.symbols('BL')\n",
    "\n",
    "# Add the connector SPK.u[p1] = alpha*SPK.y[p2]\n",
    "SPK.add_connector((p1, p2), alpha=BL)\n",
    "SPK.connectors"
   ]
  },
  {
   "cell_type": "markdown",
   "metadata": {},
   "source": [
    "## 6.3. Connection\n",
    "\n",
    "Finally, the resulting relations are embeded in the PHS structure with the method `connect`:"
   ]
  },
  {
   "cell_type": "code",
   "execution_count": 30,
   "metadata": {
    "collapsed": true
   },
   "outputs": [],
   "source": [
    "# Apply the connector\n",
    "SPK.connect()"
   ]
  },
  {
   "cell_type": "markdown",
   "metadata": {},
   "source": [
    "The new interconnection structure reads"
   ]
  },
  {
   "cell_type": "code",
   "execution_count": 31,
   "metadata": {},
   "outputs": [
    {
     "name": "stdout",
     "output_type": "stream",
     "text": [
      "⎡⎡dxL⎤, ⎡0   0   -BL  -1  0   -1⎤, ⎡gxL⎤⎤\n",
      "⎢⎢   ⎥  ⎢                       ⎥  ⎢   ⎥⎥\n",
      "⎢⎢dxK⎥  ⎢0   0    1   0   0   0 ⎥  ⎢gxK⎥⎥\n",
      "⎢⎢   ⎥  ⎢                       ⎥  ⎢   ⎥⎥\n",
      "⎢⎢dxM⎥  ⎢BL  -1   0   0   -1  0 ⎥  ⎢gxM⎥⎥\n",
      "⎢⎢   ⎥  ⎢                       ⎥  ⎢   ⎥⎥\n",
      "⎢⎢wR ⎥  ⎢1   0    0   0   0   0 ⎥  ⎢zR ⎥⎥\n",
      "⎢⎢   ⎥  ⎢                       ⎥  ⎢   ⎥⎥\n",
      "⎢⎢wA ⎥  ⎢0   0    1   0   0   0 ⎥  ⎢zA ⎥⎥\n",
      "⎢⎢   ⎥  ⎢                       ⎥  ⎢   ⎥⎥\n",
      "⎣⎣i₁ ⎦  ⎣1   0    0   0   0   0 ⎦  ⎣v₁ ⎦⎦\n"
     ]
    }
   ],
   "source": [
    "SPK.pprint()"
   ]
  },
  {
   "cell_type": "markdown",
   "metadata": {},
   "source": [
    "\n",
    "# 7. Setting the physical parameters values\n",
    "The correspondace between the parameters symbols defined above (`L`, `R`, `K`, `M`, `A`, `BL`) and their actual value is stored in the python dictionary `Core.subs`, with parameters symbols as the dictionary's keys and numerical values as the dictionary's values. As an example, we choose the following physical parameters:\n",
    "* $L=11\\times 10^{-3}$H, \n",
    "* $R=5.7$ $\\Omega$, \n",
    "* $K=4e7$ N/m, \n",
    "* $M = 19$g,\n",
    "* $A = 0.406$ Ns/m,\n",
    "* $BL = 2.99$ N/A.\n",
    "\n",
    "This is stored in the `pyphs.Core` as follows:"
   ]
  },
  {
   "cell_type": "code",
   "execution_count": 32,
   "metadata": {
    "collapsed": true
   },
   "outputs": [],
   "source": [
    "# Physical parameters \n",
    "L_value = 11e-3   # H\n",
    "R_value = 5.7     # Ohm\n",
    "K_value = 4e7     # N/m                         \n",
    "M_value = 0.019   # g\n",
    "A_value = 0.406   # N.s/m\n",
    "BL_value = 2.99   # N/A\n",
    "\n",
    "subs = {L: L_value,\n",
    "        R: R_value,\n",
    "        K: K_value, \n",
    "        M: M_value,\n",
    "        A: A_value,\n",
    "        BL:BL_value\n",
    "       }\n",
    "\n",
    "SPK.subs.update(subs)"
   ]
  },
  {
   "cell_type": "markdown",
   "metadata": {},
   "source": [
    "It is possible to replace the constant parameters $BL$ by a function that depends on $x_K$:\n",
    "$\\mathrm{BLnl}(x_k) \\triangleq \\mathrm{B}\\,e^{-x_k^2}$"
   ]
  },
  {
   "cell_type": "code",
   "execution_count": 33,
   "metadata": {},
   "outputs": [
    {
     "data": {
      "image/png": "[encoded data removed]",
      "text/latex": [
       "$$\\left[\\begin{matrix}0 & 0 & - B e^{- xK^{2}} & -1 & 0 & -1\\\\0 & 0 & 1 & 0 & 0 & 0\\\\B e^{- xK^{2}} & -1 & 0 & 0 & -1 & 0\\\\1 & 0 & 0 & 0 & 0 & 0\\\\0 & 0 & 1 & 0 & 0 & 0\\\\1 & 0 & 0 & 0 & 0 & 0\\end{matrix}\\right]$$"
      ],
      "text/plain": [
       "⎡                    2            ⎤\n",
       "⎢                 -xK             ⎥\n",
       "⎢   0     0   -B⋅ℯ      -1  0   -1⎥\n",
       "⎢                                 ⎥\n",
       "⎢   0     0      1      0   0   0 ⎥\n",
       "⎢                                 ⎥\n",
       "⎢      2                          ⎥\n",
       "⎢   -xK                           ⎥\n",
       "⎢B⋅ℯ      -1     0      0   -1  0 ⎥\n",
       "⎢                                 ⎥\n",
       "⎢   1     0      0      0   0   0 ⎥\n",
       "⎢                                 ⎥\n",
       "⎢   0     0      1      0   0   0 ⎥\n",
       "⎢                                 ⎥\n",
       "⎣   1     0      0      0   0   0 ⎦"
      ]
     },
     "execution_count": 33,
     "metadata": {},
     "output_type": "execute_result"
    }
   ],
   "source": [
    "# Define the new expression\n",
    "B = SPK.symbols('B')\n",
    "BLnl = B*sympy.exp(-(SPK.x[1])**2)\n",
    "\n",
    "#Associate the expression to BL\n",
    "SPK.substitute(subs={BL: BLnl})\n",
    "\n",
    "# Print the changes in M\n",
    "SPK.M"
   ]
  },
  {
   "cell_type": "markdown",
   "metadata": {},
   "source": [
    "> Notice the option `selfsubs=True` can be passed to `SPK.apply_subs` to apply the substitution of all parameters in dictionary `core.subs`."
   ]
  },
  {
   "cell_type": "markdown",
   "metadata": {},
   "source": [
    "# 8. Reduce the linear dissipative relations\n",
    "The resistive interconnection due to the linear physical laws in z can be incorporated in the matrix $\\mathbf R$, so that the dimension of $z$ is reduced to that of its nonlinear part."
   ]
  },
  {
   "cell_type": "code",
   "execution_count": 34,
   "metadata": {},
   "outputs": [],
   "source": [
    "SPK.reduce_z()"
   ]
  },
  {
   "cell_type": "markdown",
   "metadata": {},
   "source": [
    "> Notice the methods `split_linear()` and `reduce_z()` change the organization of the vectors $\\mathbf x$ and $\\mathbf w$ (compare the evaluation below with the original definition)."
   ]
  },
  {
   "cell_type": "code",
   "execution_count": 35,
   "metadata": {},
   "outputs": [
    {
     "data": {
      "image/png": "[encoded data removed]",
      "text/latex": [
       "$$\\left[\\begin{matrix}1.0 R & 0 & 0 & 0\\\\0 & 0 & 0 & 0\\\\0 & 0 & 1.0 A & 0\\\\0 & 0 & 0 & 0\\end{matrix}\\right]$$"
      ],
      "text/plain": [
       "⎡1.0⋅R  0    0    0⎤\n",
       "⎢                  ⎥\n",
       "⎢  0    0    0    0⎥\n",
       "⎢                  ⎥\n",
       "⎢  0    0  1.0⋅A  0⎥\n",
       "⎢                  ⎥\n",
       "⎣  0    0    0    0⎦"
      ]
     },
     "execution_count": 35,
     "metadata": {},
     "output_type": "execute_result"
    }
   ],
   "source": [
    "SPK.R()"
   ]
  },
  {
   "cell_type": "code",
   "execution_count": 36,
   "metadata": {},
   "outputs": [
    {
     "name": "stdout",
     "output_type": "stream",
     "text": [
      "⎡       ⎡                    2    ⎤       ⎤\n",
      "⎢       ⎢                 -xK     ⎥       ⎥\n",
      "⎢⎡dxL⎤, ⎢  -R     0   -B⋅ℯ      -1⎥, ⎡gxL⎤⎥\n",
      "⎢⎢   ⎥  ⎢                         ⎥  ⎢   ⎥⎥\n",
      "⎢⎢dxK⎥  ⎢   0     0      1      0 ⎥  ⎢gxK⎥⎥\n",
      "⎢⎢   ⎥  ⎢                         ⎥  ⎢   ⎥⎥\n",
      "⎢⎢dxM⎥  ⎢      2                  ⎥  ⎢gxM⎥⎥\n",
      "⎢⎢   ⎥  ⎢   -xK                   ⎥  ⎢   ⎥⎥\n",
      "⎢⎣i₁ ⎦  ⎢B⋅ℯ      -1     -A     0 ⎥  ⎣v₁ ⎦⎥\n",
      "⎢       ⎢                         ⎥       ⎥\n",
      "⎣       ⎣   1     0      0      0 ⎦       ⎦\n"
     ]
    }
   ],
   "source": [
    "SPK.pprint()"
   ]
  },
  {
   "cell_type": "code",
   "execution_count": 37,
   "metadata": {},
   "outputs": [
    {
     "data": {
      "image/png": "[encoded data removed]",
      "text/latex": [
       "$$\\left [ \\right ]$$"
      ],
      "text/plain": [
       "[]"
      ]
     },
     "execution_count": 37,
     "metadata": {},
     "output_type": "execute_result"
    }
   ],
   "source": [
    "SPK.z"
   ]
  },
  {
   "cell_type": "markdown",
   "metadata": {},
   "source": [
    "# 9. Avoid inverse evaluations of the parameters\n",
    "To avoid the inverse relations that occurs in the system's expressions (e.g. in $H$), the method `subsinverse` can be used. It replaces inversed symbols by the same symbols with prefix 'inv', which are appended to the dictionary 'Core.subs."
   ]
  },
  {
   "cell_type": "code",
   "execution_count": 38,
   "metadata": {},
   "outputs": [
    {
     "name": "stdout",
     "output_type": "stream",
     "text": [
      "Remove Inverse of Parameters...\n"
     ]
    }
   ],
   "source": [
    "SPK.subsinverse()"
   ]
  },
  {
   "cell_type": "code",
   "execution_count": 39,
   "metadata": {},
   "outputs": [
    {
     "data": {
      "image/png": "[encoded data removed]",
      "text/latex": [
       "$$\\frac{K xK^{2}}{2} + \\frac{invL xL^{2}}{2} + \\frac{invM xM^{2}}{2}$$"
      ],
      "text/plain": [
       "    2          2          2\n",
       "K⋅xK    invL⋅xL    invM⋅xM \n",
       "───── + ──────── + ────────\n",
       "  2        2          2    "
      ]
     },
     "execution_count": 39,
     "metadata": {},
     "output_type": "execute_result"
    }
   ],
   "source": [
    "SPK.H"
   ]
  },
  {
   "cell_type": "code",
   "execution_count": 40,
   "metadata": {},
   "outputs": [
    {
     "data": {
      "image/png": "[encoded data removed]",
      "text/latex": [
       "$$\\left \\{ A : 0.406, \\quad K : 40000000.0, \\quad L : 0.011, \\quad M : 0.019, \\quad R : 5.7, \\quad invL : 90.90909090909092, \\quad invM : 52.631578947368425\\right \\}$$"
      ],
      "text/plain": [
       "{A: 0.406, K: 40000000.0, L: 0.011, M: 0.019, R: 5.7, invL: 90.90909090909092,\n",
       " invM: 52.631578947368425}"
      ]
     },
     "execution_count": 40,
     "metadata": {},
     "output_type": "execute_result"
    }
   ],
   "source": [
    "SPK.subs"
   ]
  },
  {
   "cell_type": "markdown",
   "metadata": {},
   "source": [
    "# 10. Generate a $\\LaTeX$ description\n",
    "A `.tex` file containing a description of the system can now be generated with the `core.texwrite` command as follows (each argument is optional):"
   ]
  },
  {
   "cell_type": "code",
   "execution_count": 41,
   "metadata": {
    "collapsed": true,
    "scrolled": true
   },
   "outputs": [],
   "source": [
    "path = \"SPK.tex\"\n",
    "title = 'Thiele-Small based nonlinear model of loudspeakers'\n",
    "authors = ['Author A', 'Author B']\n",
    "affiliations = ['Academic institution A, address A, Country A', \n",
    "                'Academic institution B, address B, Country B']\n",
    "\n",
    "SPK.texwrite(path=path, \n",
    "             title=title, \n",
    "             authors=authors, \n",
    "             affiliations=affiliations)"
   ]
  },
  {
   "cell_type": "markdown",
   "metadata": {},
   "source": [
    "A [SPK.tex](/pyphs_outputs/RLC/SPK.tex) has been generated, the compilation of which yields the following [SPK.pdf](/pyphs_outputs/SPK.pdf)."
   ]
  },
  {
   "cell_type": "code",
   "execution_count": null,
   "metadata": {
    "collapsed": true
   },
   "outputs": [],
   "source": []
  }
 ],
 "metadata": {
  "anaconda-cloud": {},
  "kernelspec": {
   "display_name": "Python 3",
   "language": "python",
   "name": "python3"
  },
  "language_info": {
   "codemirror_mode": {
    "name": "ipython",
    "version": 3
   },
   "file_extension": ".py",
   "mimetype": "text/x-python",
   "name": "python",
   "nbconvert_exporter": "python",
   "pygments_lexer": "ipython3",
   "version": "3.6.1"
  }
 },
 "nbformat": 4,
 "nbformat_minor": 1
}
