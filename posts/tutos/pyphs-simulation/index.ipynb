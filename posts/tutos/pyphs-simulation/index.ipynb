{
 "cells": [
  {
   "cell_type": "markdown",
   "metadata": {},
   "source": [
    "In this tutorial, we cover the `pyphs.Simulation` object for the numerical simulation of `pyphs.Core` objects. The core object from the previous tutorial on [`pyphs.Core`](https://afalaize.github.io/pyphs/posts/pyphs-core/) is used as an example.\n",
    "\n",
    "<!-- TEASER_END -->\n",
    "\n",
    "The corresponding Python script `pyphs-simulation.py` can be found in the tutorials at `\\pyphs\\tutorials\\`"
   ]
  },
  {
   "cell_type": "code",
   "execution_count": null,
   "metadata": {
    "collapsed": true
   },
   "outputs": [],
   "source": [
    "# Plot appears in the notebook\n",
    "%matplotlib inline"
   ]
  },
  {
   "cell_type": "code",
   "execution_count": null,
   "metadata": {
    "collapsed": false
   },
   "outputs": [],
   "source": [
    "# Support for Python 2.x and Python 3.x\n",
    "from __future__ import division\n",
    "\n",
    "# Disable warnings \n",
    "import warnings; \n",
    "warnings.simplefilter('ignore')\n",
    "\n",
    "# import of external packages\n",
    "import numpy                     # numerical tools\n",
    "import matplotlib.pyplot as plt  # plot tools"
   ]
  },
  {
   "cell_type": "code",
   "execution_count": 3,
   "metadata": {
    "collapsed": false
   },
   "outputs": [
    {
     "name": "stdout",
     "output_type": "stream",
     "text": [
      "Remove Inverse of Parameters...\n"
     ]
    }
   ],
   "source": [
    "from pyphs.tutorials.core import core \n",
    "from pyphs import Simulation"
   ]
  },
  {
   "cell_type": "code",
   "execution_count": 7,
   "metadata": {
    "collapsed": false
   },
   "outputs": [
    {
     "name": "stdout",
     "output_type": "stream",
     "text": [
      "Build method my_core...\n",
      "Build numeric my_core...\n",
      "Build data i/o...\n"
     ]
    }
   ],
   "source": [
    "# Define the simulation parameters\n",
    "config = {'fs': 48e3,               # Sample rate (Hz)\n",
    "          'grad': 'discret',    # gradient evaluation in {'discret', 'theta', 'trapez'}\n",
    "          'theta': 0.5,             # theta for evaluation of the structure\n",
    "          'split': True,            # Split and presolve the explicit equations\n",
    "          'maxit': 10,              # Max number of iterations for NL solvers\n",
    "          'eps': 1e-11,          # Global numerical tolerance\n",
    "          'path': None,             # Path to saved results. If None, /data/ is created.\n",
    "          'pbar': False,     # Display a progress bar\n",
    "          'timer': False            # Display minimal timing infos\n",
    "          }\n",
    "\n",
    "# Instantiate a pyphs.Simulation object associated with a given core PHS\n",
    "\n",
    "simu = core.to_simulation(config = config)"
   ]
  },
  {
   "cell_type": "code",
   "execution_count": 8,
   "metadata": {
    "collapsed": false
   },
   "outputs": [],
   "source": [
    "# def simulation time\n",
    "tmax = 0.02\n",
    "nmax = int(tmax*simu.config['fs'])\n",
    "t = [n/simu.config['fs'] for n in range(nmax)]\n",
    "\n",
    "\n",
    "# def input signal\n",
    "def sig(t, mode='sin'):\n",
    "    F = 1000.\n",
    "    A = 1000.\n",
    "    if mode == 'sin':\n",
    "        out = A*numpy.sin(2*numpy.pi*F*t)\n",
    "    elif mode == 'impact':\n",
    "        dur = 0.5*1e-3\n",
    "        start = 0.001\n",
    "        out = A if start <= t < start + dur else 0.\n",
    "    elif mode == 'none':\n",
    "        out = 0.\n",
    "    return numpy.array([out])\n",
    "\n",
    "\n",
    "# def generator for sequence of inputs to feed in the PHSSimulation object\n",
    "def sequ(mode='impact'):\n",
    "    for tn in t:\n",
    "        yield sig(tn, mode)"
   ]
  },
  {
   "cell_type": "code",
   "execution_count": 9,
   "metadata": {
    "collapsed": false
   },
   "outputs": [
    {
     "name": "stdout",
     "output_type": "stream",
     "text": [
      "Simulation: Process...\n",
      "Simulation: Done\n"
     ]
    }
   ],
   "source": [
    "# Initialize the simulation\n",
    "simu.init(u=sequ(), nt=len(t))\n",
    "\n",
    "# Proceed\n",
    "simu.process()"
   ]
  },
  {
   "cell_type": "code",
   "execution_count": 10,
   "metadata": {
    "collapsed": false
   },
   "outputs": [
    {
     "data": {
      "text/plain": [
       "<generator object data_generator at 0x7f8a2a17bba0>"
      ]
     },
     "execution_count": 10,
     "metadata": {},
     "output_type": "execute_result"
    }
   ],
   "source": [
    "simu.data.x(1)"
   ]
  },
  {
   "cell_type": "code",
   "execution_count": 11,
   "metadata": {
    "collapsed": false
   },
   "outputs": [
    {
     "data": {
      "text/plain": [
       "<matplotlib.text.Text at 0x7f8a2a0f7da0>"
      ]
     },
     "execution_count": 11,
     "metadata": {},
     "output_type": "execute_result"
    }
   ],
   "source": [
    "# The simulation results are stored in the simu.data object\n",
    "t = simu.data.t()       # a generator of time value at each time step\n",
    "x = simu.data.x()       # a generator of value for vector x at each time step\n",
    "x1 = simu.data.x(1)    # a generator of value for scalar x component 1\n",
    "\n",
    "t_list = list(t)\n",
    "x_list = list(x)\n",
    "x1_list = list(x1)\n",
    "\n",
    "plt.figure()\n",
    "plt.plot(t_list, x1_list)\n",
    "plt.xlabel('$t \\; \\mathrm{(s)}$')\n",
    "plt.ylabel('$x_L \\; \\mathrm{(Wb)}$')"
   ]
  },
  {
   "cell_type": "code",
   "execution_count": 12,
   "metadata": {
    "collapsed": false
   },
   "outputs": [
    {
     "data": {
      "text/plain": [
       "<matplotlib.text.Text at 0x7f8a29eb2f28>"
      ]
     },
     "execution_count": 12,
     "metadata": {},
     "output_type": "execute_result"
    }
   ],
   "source": [
    "plt.figure()\n",
    "plt.plot([ex[0] for ex in x_list], [ex[1] for ex in x_list])\n",
    "plt.xlabel('$x_L\\; \\mathrm{(Wb)}$')\n",
    "plt.ylabel('$x_C \\; \\mathrm{(C)}$')"
   ]
  },
  {
   "cell_type": "code",
   "execution_count": null,
   "metadata": {
    "collapsed": false
   },
   "outputs": [],
   "source": [
    "plt.figure()\n",
    "simu.data.plot([('u', 0), ('x', 0), ('dtx', 0), ('y', 0)])"
   ]
  },
  {
   "cell_type": "code",
   "execution_count": null,
   "metadata": {
    "collapsed": false
   },
   "outputs": [],
   "source": [
    "simu.data.plot_powerbal(mode='single')"
   ]
  },
  {
   "cell_type": "code",
   "execution_count": null,
   "metadata": {
    "collapsed": true
   },
   "outputs": [],
   "source": []
  }
 ],
 "metadata": {
  "anaconda-cloud": {},
  "kernelspec": {
   "display_name": "Python [Root]",
   "language": "python",
   "name": "Python [Root]"
  },
  "language_info": {
   "codemirror_mode": {
    "name": "ipython",
    "version": 3
   },
   "file_extension": ".py",
   "mimetype": "text/x-python",
   "name": "python",
   "nbconvert_exporter": "python",
   "pygments_lexer": "ipython3",
   "version": "3.5.2"
  }
 },
 "nbformat": 4,
 "nbformat_minor": 0
}
