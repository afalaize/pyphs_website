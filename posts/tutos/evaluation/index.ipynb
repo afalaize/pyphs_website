{
 "cells": [
  {
   "cell_type": "markdown",
   "metadata": {},
   "source": [
    "In this tutorial, we cover the `pyphs.Evaluation` object for the numerical evaluation of `pyphs.Core` objects. The core PHS object associated with the Thiele-Small modeling of electrodynamic loudspeakers is used as an example.\n",
    "\n",
    "<!-- TEASER_END -->\n",
    "\n",
    "The [example](https://github.com/pyphs/pyphs/tree/master/pyphs/examples/thielesmall) can be found in the PyPHS examples at `\\pyphs\\examples\\` and the script [`evaluation.py`](https://github.com/pyphs/pyphs/tree/master/pyphs/examples/thielesmall) corresponding to this notebook can be found in the PyPHS tutorials at `\\pyphs\\tutorials\\`."
   ]
  },
  {
   "cell_type": "markdown",
   "metadata": {},
   "source": [
    "# Description\n",
    "\n",
    "The `pyphs.Evaluation` object build the numerical functions associated with the symbolic expressions of a `pyphs.Core`. This is not a dynamical object, so it has to be rebuild if the core is changed in any way."
   ]
  },
  {
   "cell_type": "markdown",
   "metadata": {},
   "source": [
    "# Retrieve the pyphs.Core from the Thiele-Small example"
   ]
  },
  {
   "cell_type": "code",
   "execution_count": 1,
   "metadata": {},
   "outputs": [
    {
     "name": "stdout",
     "output_type": "stream",
     "text": [
      "Read netlist thielesmall.net\n",
      "from folder /Users/afalaize/Developement/repos/pyphs/pyphs/examples/thielesmall/\n",
      "pass \"#=======================  INPUTS  ========================#\"\n",
      "read \"electronics.source      IN  ('A', '#'):             type=voltage;\"\n",
      "pass \"#\"\n",
      "pass \"#=====================  ELECTRONICS  =====================#\"\n",
      "read \"electronics.resistor    R   ('A', 'B'):             R=('R', 5.9);\"\n",
      "read \"electronics.inductor    L   ('B', 'C'):             L=('L', 2.36*1e-3);\"\n",
      "pass \"#\"\n",
      "pass \"#======================  CONNECTOR  ======================#\"\n",
      "read \"connectors.transformer  T   ('C', '#', 'D', '#'):   alpha=('Bl', 16.37);\"\n",
      "pass \"#\"\n",
      "pass \"#======================  MECHANICS  ======================#\"\n",
      "read \"mechanics.mass          M   ('D',):                 M=('M', 0.075);\"\n",
      "read \"mechanics.stiffness     K   ('D', '#'):             K=('K', 1e4);\"\n",
      "read \"mechanics.damper        A   ('D', '#'):             A=('A', 10.);\"\n",
      "pass \"\"\n",
      "Build graph IN...\n",
      "Build graph R...\n",
      "Build graph L...\n",
      "Build graph T...\n",
      "Build graph M...\n",
      "Build graph K...\n",
      "Build graph A...\n",
      "Build graph thielesmall...\n",
      "Build core thielesmall...\n"
     ]
    }
   ],
   "source": [
    "from pyphs.examples.thielesmall.thielesmall import core"
   ]
  },
  {
   "cell_type": "markdown",
   "metadata": {},
   "source": [
    "The structure is"
   ]
  },
  {
   "cell_type": "code",
   "execution_count": 2,
   "metadata": {},
   "outputs": [
    {
     "name": "stdout",
     "output_type": "stream",
     "text": [
      "⎡⎡dxK⎤, ⎡ 0     0      -1.0     0    0     0 ⎤, ⎡gxK⎤⎤\n",
      "⎢⎢   ⎥  ⎢                                    ⎥  ⎢   ⎥⎥\n",
      "⎢⎢dxL⎥  ⎢ 0     0     -1.0⋅Bl   0   -1.0  1.0⎥  ⎢gxL⎥⎥\n",
      "⎢⎢   ⎥  ⎢                                    ⎥  ⎢   ⎥⎥\n",
      "⎢⎢dxM⎥  ⎢1.0  1.0⋅Bl     0     1.0   0     0 ⎥  ⎢gxM⎥⎥\n",
      "⎢⎢   ⎥  ⎢                                    ⎥  ⎢   ⎥⎥\n",
      "⎢⎢wA ⎥  ⎢ 0     0      -1.0     0    0     0 ⎥  ⎢zA ⎥⎥\n",
      "⎢⎢   ⎥  ⎢                                    ⎥  ⎢   ⎥⎥\n",
      "⎢⎢wR ⎥  ⎢ 0    1.0       0      0    0     0 ⎥  ⎢zR ⎥⎥\n",
      "⎢⎢   ⎥  ⎢                                    ⎥  ⎢   ⎥⎥\n",
      "⎣⎣yIN⎦  ⎣ 0    -1.0      0      0    0     0 ⎦  ⎣uIN⎦⎦\n"
     ]
    }
   ],
   "source": [
    "core.pprint()"
   ]
  },
  {
   "cell_type": "markdown",
   "metadata": {},
   "source": [
    "with the state"
   ]
  },
  {
   "cell_type": "code",
   "execution_count": 3,
   "metadata": {},
   "outputs": [
    {
     "data": {
      "image/png": "[encoded data removed]",
      "text/latex": [
       "$$\\left [ xK, \\quad xL, \\quad xM\\right ]$$"
      ],
      "text/plain": [
       "[xK, xL, xM]"
      ]
     },
     "execution_count": 3,
     "metadata": {},
     "output_type": "execute_result"
    }
   ],
   "source": [
    "core.x"
   ]
  },
  {
   "cell_type": "markdown",
   "metadata": {},
   "source": [
    "the dissipation variable"
   ]
  },
  {
   "cell_type": "code",
   "execution_count": 4,
   "metadata": {},
   "outputs": [
    {
     "data": {
      "image/png": "[encoded data removed]",
      "text/latex": [
       "$$\\left [ wA, \\quad wR\\right ]$$"
      ],
      "text/plain": [
       "[wA, wR]"
      ]
     },
     "execution_count": 4,
     "metadata": {},
     "output_type": "execute_result"
    }
   ],
   "source": [
    "core.w"
   ]
  },
  {
   "cell_type": "markdown",
   "metadata": {},
   "source": [
    "the storage function (Hamiltonian)"
   ]
  },
  {
   "cell_type": "code",
   "execution_count": 5,
   "metadata": {},
   "outputs": [
    {
     "data": {
      "image/png": "[encoded data removed]",
      "text/latex": [
       "$$0.5 K xK^{2} + \\frac{0.5 xM^{2}}{M} + \\frac{0.5 xL^{2}}{L}$$"
      ],
      "text/plain": [
       "                  2         2\n",
       "        2   0.5⋅xM    0.5⋅xL \n",
       "0.5⋅K⋅xK  + ─────── + ───────\n",
       "               M         L   "
      ]
     },
     "execution_count": 5,
     "metadata": {},
     "output_type": "execute_result"
    }
   ],
   "source": [
    "core.H"
   ]
  },
  {
   "cell_type": "markdown",
   "metadata": {},
   "source": [
    "the dissipation function"
   ]
  },
  {
   "cell_type": "code",
   "execution_count": 6,
   "metadata": {},
   "outputs": [
    {
     "data": {
      "image/png": "[encoded data removed]",
      "text/latex": [
       "$$\\left [ A wA, \\quad R wR\\right ]$$"
      ],
      "text/plain": [
       "[A⋅wA, R⋅wR]"
      ]
     },
     "execution_count": 6,
     "metadata": {},
     "output_type": "execute_result"
    }
   ],
   "source": [
    "core.z"
   ]
  },
  {
   "cell_type": "markdown",
   "metadata": {},
   "source": [
    "and the parameters"
   ]
  },
  {
   "cell_type": "code",
   "execution_count": 7,
   "metadata": {},
   "outputs": [
    {
     "data": {
      "image/png": "[encoded data removed]",
      "text/latex": [
       "$$\\left \\{ A : 10.0, \\quad Bl : 16.37, \\quad K : 10000.0, \\quad L : 0.00236, \\quad M : 0.075, \\quad R : 5.9\\right \\}$$"
      ],
      "text/plain": [
       "{A: 10.0, Bl: 16.37, K: 10000.0, L: 0.00236, M: 0.075, R: 5.9}"
      ]
     },
     "execution_count": 7,
     "metadata": {},
     "output_type": "execute_result"
    }
   ],
   "source": [
    "core.subs"
   ]
  },
  {
   "cell_type": "markdown",
   "metadata": {},
   "source": [
    "# Build Evaluation object"
   ]
  },
  {
   "cell_type": "markdown",
   "metadata": {},
   "source": [
    "The evaluation object is build with"
   ]
  },
  {
   "cell_type": "code",
   "execution_count": 8,
   "metadata": {},
   "outputs": [
    {
     "name": "stdout",
     "output_type": "stream",
     "text": [
      "Build numerical evaluations...\n"
     ]
    }
   ],
   "source": [
    "evals = core.to_evaluation(names=['H', 'dxH', 'z', 'M', 'Jxx'], vectorize=True)"
   ]
  },
  {
   "cell_type": "markdown",
   "metadata": {},
   "source": [
    "Notice the symbols associated with entries in the substitution dictionary `core.subs` are automatically replaced by their correponding value in `core.subs`."
   ]
  },
  {
   "cell_type": "markdown",
   "metadata": {},
   "source": [
    "The parameters are\n",
    "\n",
    "* **`names`:  list of strings or 'all' (optional).** List of core's arguments names associated with the functions that\n",
    "    will be lambdified. If 'all', the names for every arguments,\n",
    "    every functions (including all systems matrices and sub-matrices),\n",
    "    and every operations are considered (processing time increases\n",
    "    quickly with original core's complexity if thsi option is used).\n",
    "* **`vectorize`: bool (optional).** If True, every functions are vectorized with numpy.vectorize.\n",
    "    The default is True.   "
   ]
  },
  {
   "cell_type": "markdown",
   "metadata": {},
   "source": [
    "# Arguments\n",
    "\n",
    "The arguments of numerical functions are taken from the vector \n",
    "$$\\mathbf{args} \\triangleq (\\mathbf x, \\, \\delta \\mathbf x, \\, \\mathbf w, \\, \\mathbf u, \\, \\mathbf p, \\, \\mathbf o)$$\n",
    "from the original `Core`:"
   ]
  },
  {
   "cell_type": "code",
   "execution_count": 9,
   "metadata": {
    "scrolled": true
   },
   "outputs": [
    {
     "data": {
      "image/png": "[encoded data removed]",
      "text/latex": [
       "$$\\left [ xK, \\quad xL, \\quad xM, \\quad dxK, \\quad dxL, \\quad dxM, \\quad wA, \\quad wR, \\quad uIN\\right ]$$"
      ],
      "text/plain": [
       "[xK, xL, xM, dxK, dxL, dxM, wA, wR, uIN]"
      ]
     },
     "execution_count": 9,
     "metadata": {},
     "output_type": "execute_result"
    }
   ],
   "source": [
    "evals.args()"
   ]
  },
  {
   "cell_type": "markdown",
   "metadata": {},
   "source": [
    "Below we define a set of numerical values for these arguments"
   ]
  },
  {
   "cell_type": "code",
   "execution_count": 10,
   "metadata": {
    "collapsed": true
   },
   "outputs": [],
   "source": [
    "x = [5e-4, 2e-2]\n",
    "dx = [5e-3, 2e-1]\n",
    "w = [5e-3, ]\n",
    "u = [1.5, ]\n",
    "\n",
    "args = x + dx + w + u"
   ]
  },
  {
   "cell_type": "markdown",
   "metadata": {},
   "source": [
    "# Call to Functions\n",
    "For each function that has been built at initialization, `Evaluation` contains \n",
    "\n",
    "1. a list `Evaluation.funcname_args` of symbols for arguments, \n",
    "2. a list `Evaluation.funcname_inds` of corresponding indices in $\\mathbf{args}$,\n",
    "3. a numerical function `Evaluation.funcname` with arguments defined by the list (1),\n",
    "\n",
    "where `funcname` has to be changed to appropriate funcion name.\n",
    "\n",
    "As a example, we evaluate below the Hamiltonian"
   ]
  },
  {
   "cell_type": "code",
   "execution_count": 11,
   "metadata": {},
   "outputs": [
    {
     "data": {
      "image/png": "[encoded data removed]",
      "text/latex": [
       "$$0.5 K xK^{2} + \\frac{0.5 xM^{2}}{M} + \\frac{0.5 xL^{2}}{L}$$"
      ],
      "text/plain": [
       "                  2         2\n",
       "        2   0.5⋅xM    0.5⋅xL \n",
       "0.5⋅K⋅xK  + ─────── + ───────\n",
       "               M         L   "
      ]
     },
     "execution_count": 11,
     "metadata": {},
     "output_type": "execute_result"
    }
   ],
   "source": [
    "core.H"
   ]
  },
  {
   "cell_type": "markdown",
   "metadata": {},
   "source": [
    "which reads after substitution"
   ]
  },
  {
   "cell_type": "code",
   "execution_count": 12,
   "metadata": {},
   "outputs": [
    {
     "data": {
      "image/png": "[encoded data removed]",
      "text/latex": [
       "$$5000.0 xK^{2} + 211.864406779661 xL^{2} + 6.66666666666667 xM^{2}$$"
      ],
      "text/plain": [
       "         2                      2                      2\n",
       "5000.0⋅xK  + 211.864406779661⋅xL  + 6.66666666666667⋅xM "
      ]
     },
     "execution_count": 12,
     "metadata": {},
     "output_type": "execute_result"
    }
   ],
   "source": [
    "evals.core.H"
   ]
  },
  {
   "cell_type": "markdown",
   "metadata": {},
   "source": [
    "The arguments are"
   ]
  },
  {
   "cell_type": "code",
   "execution_count": 13,
   "metadata": {},
   "outputs": [
    {
     "data": {
      "image/png": "[encoded data removed]",
      "text/latex": [
       "$$\\left ( xK, \\quad xL, \\quad xM\\right )$$"
      ],
      "text/plain": [
       "(xK, xL, xM)"
      ]
     },
     "execution_count": 13,
     "metadata": {},
     "output_type": "execute_result"
    }
   ],
   "source": [
    "evals.H_args"
   ]
  },
  {
   "cell_type": "markdown",
   "metadata": {},
   "source": [
    "and correspond to the following entries in $\\mathbf{args}$"
   ]
  },
  {
   "cell_type": "code",
   "execution_count": 14,
   "metadata": {},
   "outputs": [
    {
     "data": {
      "image/png": "[encoded data removed]",
      "text/latex": [
       "$$\\left ( 0, \\quad 1, \\quad 2\\right )$$"
      ],
      "text/plain": [
       "(0, 1, 2)"
      ]
     },
     "execution_count": 14,
     "metadata": {},
     "output_type": "execute_result"
    }
   ],
   "source": [
    "evals.H_inds"
   ]
  },
  {
   "cell_type": "markdown",
   "metadata": {},
   "source": [
    "i.e. the numerical values for the arguments are"
   ]
  },
  {
   "cell_type": "code",
   "execution_count": 15,
   "metadata": {},
   "outputs": [
    {
     "data": {
      "image/png": "[encoded data removed]",
      "text/latex": [
       "$$\\left ( 0.0005, \\quad 0.02, \\quad 0.005\\right )$$"
      ],
      "text/plain": [
       "(0.0005, 0.02, 0.005)"
      ]
     },
     "execution_count": 15,
     "metadata": {},
     "output_type": "execute_result"
    }
   ],
   "source": [
    "x1, x2, x3 = [args[i] for i in evals.H_inds]\n",
    "x1, x2, x3"
   ]
  },
  {
   "cell_type": "markdown",
   "metadata": {},
   "source": [
    "Thus, the function for the evaluation of the Hamiltonian takes three argmuents. \n",
    "It is called with"
   ]
  },
  {
   "cell_type": "code",
   "execution_count": 16,
   "metadata": {},
   "outputs": [
    {
     "data": {
      "text/plain": [
       "array(0.08616242937853107)"
      ]
     },
     "execution_count": 16,
     "metadata": {},
     "output_type": "execute_result"
    }
   ],
   "source": [
    "evals.H(x1, x2, x3)"
   ]
  },
  {
   "cell_type": "markdown",
   "metadata": {},
   "source": [
    "or directly"
   ]
  },
  {
   "cell_type": "code",
   "execution_count": 17,
   "metadata": {},
   "outputs": [
    {
     "data": {
      "text/plain": [
       "array(0.08616242937853107)"
      ]
     },
     "execution_count": 17,
     "metadata": {},
     "output_type": "execute_result"
    }
   ],
   "source": [
    "x_vec = x1, x2, x3\n",
    "evals.H(*x_vec)"
   ]
  },
  {
   "cell_type": "markdown",
   "metadata": {},
   "source": [
    "Also notice the case with no arguments, e.g."
   ]
  },
  {
   "cell_type": "code",
   "execution_count": 18,
   "metadata": {},
   "outputs": [
    {
     "data": {
      "text/latex": [
       "$$\\left[\\begin{matrix}0 & 0 & -1.0\\\\0 & 0 & -16.37\\\\1.0 & 16.37 & 0\\end{matrix}\\right]$$"
      ],
      "text/plain": [
       "⎡ 0     0     -1.0 ⎤\n",
       "⎢                  ⎥\n",
       "⎢ 0     0    -16.37⎥\n",
       "⎢                  ⎥\n",
       "⎣1.0  16.37    0   ⎦"
      ]
     },
     "execution_count": 18,
     "metadata": {},
     "output_type": "execute_result"
    }
   ],
   "source": [
    "evals.core.Jxx()"
   ]
  },
  {
   "cell_type": "code",
   "execution_count": 23,
   "metadata": {},
   "outputs": [
    {
     "name": "stdout",
     "output_type": "stream",
     "text": [
      "() ()\n"
     ]
    }
   ],
   "source": [
    "print(evals.Jxx_args, evals.Jxx_inds)"
   ]
  },
  {
   "cell_type": "code",
   "execution_count": 20,
   "metadata": {},
   "outputs": [
    {
     "data": {
      "text/plain": [
       "array([[  0.  ,   0.  ,  -1.  ],\n",
       "       [  0.  ,   0.  , -16.37],\n",
       "       [  1.  ,  16.37,   0.  ]])"
      ]
     },
     "execution_count": 20,
     "metadata": {},
     "output_type": "execute_result"
    }
   ],
   "source": [
    "evals.Jxx()"
   ]
  },
  {
   "cell_type": "markdown",
   "metadata": {},
   "source": [
    "# Vectorize\n",
    "If the option `vectorize=True` has been passed to the initialization of the `Evaluation` object, each argument of function can be a vector of values. Below, we define vectors of random values"
   ]
  },
  {
   "cell_type": "code",
   "execution_count": 21,
   "metadata": {},
   "outputs": [],
   "source": [
    "import numpy as np\n",
    "N = 5\n",
    "x1_vec = np.random.rand(N)*1e-3\n",
    "x2_vec = np.random.rand(N)*1e-3\n",
    "x3_vec = np.random.rand(N)*1e-3"
   ]
  },
  {
   "cell_type": "markdown",
   "metadata": {
    "collapsed": true
   },
   "source": [
    "and call the function with these vectors:"
   ]
  },
  {
   "cell_type": "code",
   "execution_count": 22,
   "metadata": {},
   "outputs": [
    {
     "data": {
      "text/plain": [
       "array([ 0.00178008,  0.00025182,  0.00198044,  0.00021611,  0.00194477])"
      ]
     },
     "execution_count": 22,
     "metadata": {},
     "output_type": "execute_result"
    }
   ],
   "source": [
    "evals.H(x1_vec, x3_vec, x3_vec)"
   ]
  }
 ],
 "metadata": {
  "anaconda-cloud": {},
  "kernelspec": {
   "display_name": "Python 3",
   "language": "python",
   "name": "python3"
  },
  "language_info": {
   "codemirror_mode": {
    "name": "ipython",
    "version": 3
   },
   "file_extension": ".py",
   "mimetype": "text/x-python",
   "name": "python",
   "nbconvert_exporter": "python",
   "pygments_lexer": "ipython3",
   "version": "3.6.1"
  }
 },
 "nbformat": 4,
 "nbformat_minor": 1
}
